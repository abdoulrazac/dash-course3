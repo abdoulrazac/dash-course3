{
 "cells": [
  {
   "cell_type": "code",
   "execution_count": 1,
   "metadata": {},
   "outputs": [],
   "source": [
    "import pandas as pd\n",
    "import plotly.offline as pyo\n",
    "import plotly.graph_objs as go"
   ]
  },
  {
   "cell_type": "code",
   "execution_count": 2,
   "metadata": {},
   "outputs": [],
   "source": [
    "df = pd.read_csv('Plotly-Dashboards-with-Dash-master/SourceData/nst-est2017-alldata.csv')"
   ]
  },
  {
   "cell_type": "code",
   "execution_count": 6,
   "metadata": {},
   "outputs": [],
   "source": [
    "df2 =df[df['DIVISION'] == '1']"
   ]
  },
  {
   "cell_type": "code",
   "execution_count": 7,
   "metadata": {},
   "outputs": [],
   "source": [
    "df2.set_index('NAME',inplace=True)"
   ]
  },
  {
   "cell_type": "code",
   "execution_count": 8,
   "metadata": {},
   "outputs": [],
   "source": [
    "list_of_pop_col = [col for col in df2.columns if col.startswith('POP')]"
   ]
  },
  {
   "cell_type": "code",
   "execution_count": 9,
   "metadata": {},
   "outputs": [],
   "source": [
    "df2 = df2[list_of_pop_col]"
   ]
  },
  {
   "cell_type": "code",
   "execution_count": 10,
   "metadata": {},
   "outputs": [
    {
     "name": "stdout",
     "output_type": "stream",
     "text": [
      "               POPESTIMATE2010  POPESTIMATE2011  POPESTIMATE2012  \\\n",
      "NAME                                                               \n",
      "Connecticut          3580171.0        3591927.0        3597705.0   \n",
      "Maine                1327568.0        1327968.0        1328101.0   \n",
      "Massachusetts        6564943.0        6612178.0        6659627.0   \n",
      "New Hampshire        1316700.0        1318345.0        1320923.0   \n",
      "Rhode Island         1053169.0        1052154.0        1052761.0   \n",
      "Vermont               625842.0         626210.0         625606.0   \n",
      "\n",
      "               POPESTIMATE2013  POPESTIMATE2014  POPESTIMATE2015  \\\n",
      "NAME                                                               \n",
      "Connecticut          3602470.0        3600188.0        3593862.0   \n",
      "Maine                1327975.0        1328903.0        1327787.0   \n",
      "Massachusetts        6711138.0        6757925.0        6794002.0   \n",
      "New Hampshire        1322622.0        1328684.0        1330134.0   \n",
      "Rhode Island         1052784.0        1054782.0        1055916.0   \n",
      "Vermont               626044.0         625665.0         624455.0   \n",
      "\n",
      "               POPESTIMATE2016  POPESTIMATE2017  \n",
      "NAME                                             \n",
      "Connecticut          3587685.0        3588184.0  \n",
      "Maine                1330232.0        1335907.0  \n",
      "Massachusetts        6823721.0        6859819.0  \n",
      "New Hampshire        1335015.0        1342795.0  \n",
      "Rhode Island         1057566.0        1059639.0  \n",
      "Vermont               623354.0         623657.0  \n"
     ]
    }
   ],
   "source": [
    "print(df2)"
   ]
  },
  {
   "cell_type": "code",
   "execution_count": null,
   "metadata": {},
   "outputs": [],
   "source": []
  }
 ],
 "metadata": {
  "kernelspec": {
   "display_name": "Python 3",
   "language": "python",
   "name": "python3"
  },
  "language_info": {
   "codemirror_mode": {
    "name": "ipython",
    "version": 3
   },
   "file_extension": ".py",
   "mimetype": "text/x-python",
   "name": "python",
   "nbconvert_exporter": "python",
   "pygments_lexer": "ipython3",
   "version": "3.8.5"
  }
 },
 "nbformat": 4,
 "nbformat_minor": 4
}
