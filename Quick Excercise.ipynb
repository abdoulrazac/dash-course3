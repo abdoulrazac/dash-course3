{
 "cells": [
  {
   "cell_type": "code",
   "execution_count": 1,
   "metadata": {},
   "outputs": [],
   "source": [
    "import numpy as np\n",
    "import pandas as pd"
   ]
  },
  {
   "cell_type": "code",
   "execution_count": 6,
   "metadata": {},
   "outputs": [],
   "source": [
    "#Creating a matrix with numbers between 0-50, and reshaping it to be 5x10\n",
    "mat = np.arange(0,50).reshape(5,10)"
   ]
  },
  {
   "cell_type": "code",
   "execution_count": 7,
   "metadata": {},
   "outputs": [],
   "source": [
    "#Taking the matrix from above and converting that matrix into a datframe\n",
    "df = pd.DataFrame(data=mat)"
   ]
  },
  {
   "cell_type": "code",
   "execution_count": 9,
   "metadata": {},
   "outputs": [
    {
     "name": "stdout",
     "output_type": "stream",
     "text": [
      "    0   1   2   3   4   5   6   7   8   9\n",
      "0   0   1   2   3   4   5   6   7   8   9\n",
      "1  10  11  12  13  14  15  16  17  18  19\n",
      "2  20  21  22  23  24  25  26  27  28  29\n",
      "3  30  31  32  33  34  35  36  37  38  39\n",
      "4  40  41  42  43  44  45  46  47  48  49\n"
     ]
    }
   ],
   "source": [
    "print(df)\n",
    "\n",
    "#Notice both the rows and columns have been automated index names because\n",
    "#the names have not been specified"
   ]
  },
  {
   "cell_type": "markdown",
   "metadata": {},
   "source": [
    "### Now we are going to reshape the matrix so we can add some easily viewable names to the dataframe rows and columns"
   ]
  },
  {
   "cell_type": "code",
   "execution_count": 11,
   "metadata": {},
   "outputs": [
    {
     "name": "stdout",
     "output_type": "stream",
     "text": [
      "       A  B\n",
      "Zero   0  1\n",
      "One    2  3\n",
      "Two    4  5\n",
      "Three  6  7\n",
      "Four   8  9\n"
     ]
    }
   ],
   "source": [
    "mat = np.arange(0,10).reshape(5,2)\n",
    "df = pd.DataFrame(data=mat,columns=['A','B'],index=['Zero','One','Two','Three','Four'])\n",
    "print(df)"
   ]
  },
  {
   "cell_type": "markdown",
   "metadata": {},
   "source": [
    "### Crash-Course-Review-Excercises"
   ]
  },
  {
   "cell_type": "markdown",
   "metadata": {},
   "source": [
    "#### TASK 1: Set Numpy's random number generator seed to 101"
   ]
  },
  {
   "cell_type": "code",
   "execution_count": 28,
   "metadata": {},
   "outputs": [],
   "source": [
    "np.random.seed(101)"
   ]
  },
  {
   "cell_type": "markdown",
   "metadata": {},
   "source": [
    "#### TASK 2: Create a NumPy Matrix of 100 rows by 5 columns consisting of random integers from 1-100. (Keep in mind that the upper limit may be exclusive.)"
   ]
  },
  {
   "cell_type": "code",
   "execution_count": 23,
   "metadata": {},
   "outputs": [],
   "source": [
    "mat = np.random.randint(1,101,(100,5))"
   ]
  },
  {
   "cell_type": "markdown",
   "metadata": {},
   "source": [
    "####  TASK 3: Now use pd.DataFrame() to read in this numpy array as a dataframe. Simple pass in the numpy array into that function to get back a dataframe. Pandas will auto label the columns to 0-4"
   ]
  },
  {
   "cell_type": "code",
   "execution_count": 25,
   "metadata": {},
   "outputs": [],
   "source": [
    "df = pd.DataFrame(data=mat)"
   ]
  },
  {
   "cell_type": "markdown",
   "metadata": {},
   "source": [
    "#### TASK 4: Using your previously created DataFrame, use [df.columns = [...](https://stackoverflow.com/questions/11346283/renaming-columns-in-pandas) to rename the pandas columns to be ['f1','f2','f3','f4','label']."
   ]
  },
  {
   "cell_type": "code",
   "execution_count": 26,
   "metadata": {},
   "outputs": [],
   "source": [
    "df.columns = ['f1','f2','f3','f4','label']"
   ]
  },
  {
   "cell_type": "code",
   "execution_count": 27,
   "metadata": {},
   "outputs": [
    {
     "name": "stdout",
     "output_type": "stream",
     "text": [
      "    f1  f2  f3   f4  label\n",
      "0   82  71  64   88     76\n",
      "1   10  78  41    5     64\n",
      "2   41  61  93   65      6\n",
      "3   13  94  41   50     84\n",
      "4    9  30  60   35     45\n",
      "..  ..  ..  ..  ...    ...\n",
      "95  17  61  26  100     31\n",
      "96  42  73  46   27     88\n",
      "97  66  61  90   71     34\n",
      "98  60  29  17   50     96\n",
      "99  42  12  87   16     96\n",
      "\n",
      "[100 rows x 5 columns]\n"
     ]
    }
   ],
   "source": [
    "print(df)"
   ]
  },
  {
   "cell_type": "markdown",
   "metadata": {},
   "source": [
    "#### TASK 6: Alright, all the other tasks were hopefully straightforward.This final task will allow you to quickly check to see if you are at the right level with pandas! Do the following: Create a dataframe with the columns ['A','B','C','D'] with each column having 50 rows of random numbers for data. The random numbers should be between 0 and 100. (Hint: Use numpy to create the numbers, then pass it in to pd.DataFrame(), check out the data= and index= parameters for that call.)"
   ]
  },
  {
   "cell_type": "code",
   "execution_count": null,
   "metadata": {},
   "outputs": [],
   "source": [
    "f"
   ]
  }
 ],
 "metadata": {
  "kernelspec": {
   "display_name": "Python 3",
   "language": "python",
   "name": "python3"
  },
  "language_info": {
   "codemirror_mode": {
    "name": "ipython",
    "version": 3
   },
   "file_extension": ".py",
   "mimetype": "text/x-python",
   "name": "python",
   "nbconvert_exporter": "python",
   "pygments_lexer": "ipython3",
   "version": "3.8.3"
  }
 },
 "nbformat": 4,
 "nbformat_minor": 4
}
