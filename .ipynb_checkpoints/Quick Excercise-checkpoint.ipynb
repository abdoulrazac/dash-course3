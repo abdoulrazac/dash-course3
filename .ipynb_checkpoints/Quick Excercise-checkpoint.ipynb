{
 "cells": [
  {
   "cell_type": "code",
   "execution_count": 3,
   "metadata": {},
   "outputs": [],
   "source": [
    "import numpy as np\n",
    "import pandas as pd"
   ]
  },
  {
   "cell_type": "code",
   "execution_count": 4,
   "metadata": {},
   "outputs": [],
   "source": [
    "#Creating a matrix with numbers between 0-50, and reshaping it to be 5x10\n",
    "mat = np.arange(0,50).reshape(5,10)"
   ]
  },
  {
   "cell_type": "code",
   "execution_count": 5,
   "metadata": {},
   "outputs": [],
   "source": [
    "#Taking the matrix from above and converting that matrix into a datframe\n",
    "df = pd.DataFrame(data=mat)"
   ]
  },
  {
   "cell_type": "code",
   "execution_count": 6,
   "metadata": {},
   "outputs": [
    {
     "name": "stdout",
     "output_type": "stream",
     "text": [
      "    0   1   2   3   4   5   6   7   8   9\n",
      "0   0   1   2   3   4   5   6   7   8   9\n",
      "1  10  11  12  13  14  15  16  17  18  19\n",
      "2  20  21  22  23  24  25  26  27  28  29\n",
      "3  30  31  32  33  34  35  36  37  38  39\n",
      "4  40  41  42  43  44  45  46  47  48  49\n"
     ]
    }
   ],
   "source": [
    "print(df)\n",
    "\n",
    "#Notice both the rows and columns have been automated index names because\n",
    "#the names have not been specified"
   ]
  },
  {
   "cell_type": "markdown",
   "metadata": {},
   "source": [
    "### Now we are going to reshape the matrix so we can add some easily viewable names to the dataframe rows and columns"
   ]
  },
  {
   "cell_type": "code",
   "execution_count": 7,
   "metadata": {},
   "outputs": [
    {
     "name": "stdout",
     "output_type": "stream",
     "text": [
      "       A  B\n",
      "Zero   0  1\n",
      "One    2  3\n",
      "Two    4  5\n",
      "Three  6  7\n",
      "Four   8  9\n"
     ]
    }
   ],
   "source": [
    "mat = np.arange(0,10).reshape(5,2)\n",
    "df = pd.DataFrame(data=mat,columns=['A','B'],index=['Zero','One','Two','Three','Four'])\n",
    "print(df)"
   ]
  },
  {
   "cell_type": "markdown",
   "metadata": {},
   "source": [
    "### Crash-Course-Review-Excercises"
   ]
  },
  {
   "cell_type": "markdown",
   "metadata": {},
   "source": [
    "#### TASK 1: Set Numpy's random number generator seed to 101"
   ]
  },
  {
   "cell_type": "code",
   "execution_count": 8,
   "metadata": {},
   "outputs": [],
   "source": [
    "np.random.seed(101)"
   ]
  },
  {
   "cell_type": "markdown",
   "metadata": {},
   "source": [
    "#### TASK 2: Create a NumPy Matrix of 100 rows by 5 columns consisting of random integers from 1-100. (Keep in mind that the upper limit may be exclusive.)"
   ]
  },
  {
   "cell_type": "code",
   "execution_count": 9,
   "metadata": {},
   "outputs": [],
   "source": [
    "mat = np.random.randint(1,101,(100,5))"
   ]
  },
  {
   "cell_type": "markdown",
   "metadata": {},
   "source": [
    "####  TASK 3: Now use pd.DataFrame() to read in this numpy array as a dataframe. Simple pass in the numpy array into that function to get back a dataframe. Pandas will auto label the columns to 0-4"
   ]
  },
  {
   "cell_type": "code",
   "execution_count": 10,
   "metadata": {},
   "outputs": [],
   "source": [
    "df = pd.DataFrame(data=mat)"
   ]
  },
  {
   "cell_type": "markdown",
   "metadata": {},
   "source": [
    "#### TASK 4: Using your previously created DataFrame, use [df.columns = [...](https://stackoverflow.com/questions/11346283/renaming-columns-in-pandas) to rename the pandas columns to be ['f1','f2','f3','f4','label']."
   ]
  },
  {
   "cell_type": "code",
   "execution_count": 11,
   "metadata": {},
   "outputs": [],
   "source": [
    "df.columns = ['f1','f2','f3','f4','label']"
   ]
  },
  {
   "cell_type": "code",
   "execution_count": 12,
   "metadata": {},
   "outputs": [
    {
     "name": "stdout",
     "output_type": "stream",
     "text": [
      "     f1  f2  f3  f4  label\n",
      "0    96  12  82  71     64\n",
      "1    88  76  10  78     41\n",
      "2     5  64  41  61     93\n",
      "3    65   6  13  94     41\n",
      "4    50  84   9  30     60\n",
      "..  ...  ..  ..  ..    ...\n",
      "95   88  67  17  61     26\n",
      "96  100  31  42  73     46\n",
      "97   27  88  66  61     90\n",
      "98   71  34  60  29     17\n",
      "99   50  96  42  12     87\n",
      "\n",
      "[100 rows x 5 columns]\n"
     ]
    }
   ],
   "source": [
    "print(df)"
   ]
  },
  {
   "cell_type": "markdown",
   "metadata": {},
   "source": [
    "#### TASK 6: Alright, all the other tasks were hopefully straightforward.This final task will allow you to quickly check to see if you are at the right level with pandas! Do the following: Create a dataframe with the columns ['A','B','C','D'] with each column having 50 rows of random numbers for data. The random numbers should be between 0 and 100. (Hint: Use numpy to create the numbers, then pass it in to pd.DataFrame(), check out the data= and index= parameters for that call.)"
   ]
  },
  {
   "cell_type": "code",
   "execution_count": 17,
   "metadata": {},
   "outputs": [],
   "source": [
    "mat = np.random.randint(0,101,(50,4))"
   ]
  },
  {
   "cell_type": "code",
   "execution_count": 18,
   "metadata": {},
   "outputs": [],
   "source": [
    "df = pd.DataFrame(data=mat)\n",
    "df.columns = ['A','B','C','D']"
   ]
  },
  {
   "cell_type": "code",
   "execution_count": 19,
   "metadata": {},
   "outputs": [
    {
     "name": "stdout",
     "output_type": "stream",
     "text": [
      "      A    B    C   D\n",
      "0     7   65   50  53\n",
      "1     4   39    1   5\n",
      "2    67   92   50  59\n",
      "3     2   91   14  12\n",
      "4    68   87   13  18\n",
      "5   100    4   89  22\n",
      "6    40    7    2  83\n",
      "7    19   68   89  16\n",
      "8     1    2   73  65\n",
      "9    24   84   17  21\n",
      "10   97   44   36  38\n",
      "11   93   32    5  76\n",
      "12   19   33   76  41\n",
      "13   21   20   54  77\n",
      "14   62   99    4  52\n",
      "15   83   55   11  46\n",
      "16   39   92   34  54\n",
      "17   49   11   62  11\n",
      "18   83   25   32  40\n",
      "19   27   30   92  59\n",
      "20   86   74   17  69\n",
      "21   85    4    5  49\n",
      "22   29   41   38  22\n",
      "23   45   10   65  77\n",
      "24   72   90   80  64\n",
      "25   81   20    2  20\n",
      "26   53   38   94  49\n",
      "27   26   88   21  38\n",
      "28   52   74   96  19\n",
      "29   77    5   70  27\n",
      "30   92    6   97  71\n",
      "31   23   90   78  85\n",
      "32   61   79   54  56\n",
      "33   64   41   61  56\n",
      "34    2   86   19  77\n",
      "35    5   44   15  75\n",
      "36   70  100   12  13\n",
      "37   93   21   46  28\n",
      "38   20   70   14  56\n",
      "39   19   79   59  33\n",
      "40   33   11   44  43\n",
      "41   93    3   39  77\n",
      "42    3   58   51  32\n",
      "43   46    8    9  13\n",
      "44   63   59   79   5\n",
      "45   33   47   29  79\n",
      "46   62   25  100  43\n",
      "47   46   94   68  55\n",
      "48   69   41   41  14\n",
      "49   47    3   64  23\n"
     ]
    }
   ],
   "source": [
    "print(df)"
   ]
  },
  {
   "cell_type": "code",
   "execution_count": null,
   "metadata": {},
   "outputs": [],
   "source": []
  }
 ],
 "metadata": {
  "kernelspec": {
   "display_name": "Python 3",
   "language": "python",
   "name": "python3"
  },
  "language_info": {
   "codemirror_mode": {
    "name": "ipython",
    "version": 3
   },
   "file_extension": ".py",
   "mimetype": "text/x-python",
   "name": "python",
   "nbconvert_exporter": "python",
   "pygments_lexer": "ipython3",
   "version": "3.8.4"
  }
 },
 "nbformat": 4,
 "nbformat_minor": 4
}
